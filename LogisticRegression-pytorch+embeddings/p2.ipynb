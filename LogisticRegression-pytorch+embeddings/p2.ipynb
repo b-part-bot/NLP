{
 "cells": [
  {
   "cell_type": "code",
   "execution_count": 1,
   "metadata": {},
   "outputs": [],
   "source": [
    "import torch\n",
    "from sklearn import datasets\n",
    "from sklearn.model_selection import train_test_split\n",
    "import numpy as np\n"
   ]
  },
  {
   "cell_type": "code",
   "execution_count": null,
   "metadata": {},
   "outputs": [],
   "source": []
  },
  {
   "cell_type": "code",
   "execution_count": 2,
   "metadata": {},
   "outputs": [
    {
     "name": "stdout",
     "output_type": "stream",
     "text": [
      "569\n"
     ]
    }
   ],
   "source": [
    "bc = datasets.load_breast_cancer()\n",
    "X, y  = bc.data, bc.target\n",
    "n_samples,n_features = X.shape\n",
    "print(n_samples)"
   ]
  },
  {
   "cell_type": "code",
   "execution_count": 3,
   "metadata": {},
   "outputs": [],
   "source": [
    "\n",
    "\n",
    "X_train, X_test, y_train, y_test = train_test_split(X, y, random_state=24, test_size=0.2)"
   ]
  },
  {
   "cell_type": "code",
   "execution_count": 4,
   "metadata": {},
   "outputs": [
    {
     "data": {
      "text/plain": [
       "array([[1.757e+01, 1.505e+01, 1.150e+02, ..., 1.456e-01, 2.756e-01,\n",
       "        7.919e-02],\n",
       "       [1.461e+01, 1.569e+01, 9.268e+01, ..., 5.813e-02, 2.530e-01,\n",
       "        5.695e-02],\n",
       "       [1.151e+01, 2.393e+01, 7.452e+01, ..., 9.653e-02, 2.112e-01,\n",
       "        8.732e-02],\n",
       "       ...,\n",
       "       [1.968e+01, 2.168e+01, 1.299e+02, ..., 2.255e-01, 4.045e-01,\n",
       "        7.918e-02],\n",
       "       [9.720e+00, 1.822e+01, 6.073e+01, ..., 0.000e+00, 1.909e-01,\n",
       "        6.559e-02],\n",
       "       [1.270e+01, 1.217e+01, 8.088e+01, ..., 8.224e-02, 2.775e-01,\n",
       "        9.464e-02]])"
      ]
     },
     "execution_count": 4,
     "metadata": {},
     "output_type": "execute_result"
    }
   ],
   "source": [
    "X_train"
   ]
  }
 ],
 "metadata": {
  "kernelspec": {
   "display_name": "Python 3",
   "language": "python",
   "name": "python3"
  },
  "language_info": {
   "codemirror_mode": {
    "name": "ipython",
    "version": 3
   },
   "file_extension": ".py",
   "mimetype": "text/x-python",
   "name": "python",
   "nbconvert_exporter": "python",
   "pygments_lexer": "ipython3",
   "version": "3.11.1"
  },
  "orig_nbformat": 4
 },
 "nbformat": 4,
 "nbformat_minor": 2
}
