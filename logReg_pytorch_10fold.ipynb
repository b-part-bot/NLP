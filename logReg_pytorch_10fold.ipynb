{
 "cells": [
  {
   "cell_type": "code",
   "execution_count": 8,
   "metadata": {},
   "outputs": [
    {
     "name": "stdout",
     "output_type": "stream",
     "text": [
      "0       Oh and I forgot to also mention the weird colo...\n",
      "1                            THAT one didn't work either.\n",
      "2                                      Waste of 13 bucks.\n",
      "3       Product is useless, since it does not have eno...\n",
      "4       None of the three sizes they sent with the hea...\n",
      "                              ...                        \n",
      "2395    The sweet potato fries were very good and seas...\n",
      "2396    I could eat their bruschetta all day it is dev...\n",
      "2397                                 Ambience is perfect.\n",
      "2398    We ordered the duck rare and it was pink and t...\n",
      "2399         Service was good and the company was better!\n",
      "Name: text, Length: 2400, dtype: object\n",
      "0      It only recognizes the Phone as its storage de...\n",
      "1      Disappointing accessory from a good manufacturer.\n",
      "2      The one big drawback of the MP3 player is that...\n",
      "3      This particular model would not work with my M...\n",
      "4      If the two were seperated by a mere 5+ ft I st...\n",
      "                             ...                        \n",
      "595                  Everything was fresh and delicious!\n",
      "596            - Really, really good rice, all the time.\n",
      "597                                Pretty awesome place.\n",
      "598          The staff are great, the ambiance is great.\n",
      "599              The patio seating was very comfortable.\n",
      "Name: text, Length: 600, dtype: object\n",
      "[[0]\n",
      " [0]\n",
      " [0]\n",
      " ...\n",
      " [1]\n",
      " [1]\n",
      " [1]]\n"
     ]
    },
    {
     "data": {
      "text/plain": [
       "(2400, 1)"
      ]
     },
     "execution_count": 8,
     "metadata": {},
     "output_type": "execute_result"
    }
   ],
   "source": [
    "import pandas as pd\n",
    "import numpy as np\n",
    "import matplotlib.pyplot as plt\n",
    "import torch\n",
    "import torch.nn as nn\n",
    "df_x=  pd.read_csv('C:/Users/bhara/Downloads/x_train.csv')\n",
    "df_y =  pd.read_csv('C:/Users/bhara/Downloads/y_train.csv')\n",
    "df_x_test =  pd.read_csv('C:/Users/bhara/Downloads/x_test.csv')\n",
    "x_input_text = df_x['text']\n",
    "XTest = df_x_test['text']\n",
    "Y = df_y['is_positive_sentiment'].values\n",
    "\n",
    "Y = Y.reshape((Y.shape[0],1))\n",
    "print(x_input_text)\n",
    "print(XTest)\n",
    "print(Y)\n",
    "Y.shape"
   ]
  },
  {
   "cell_type": "code",
   "execution_count": 9,
   "metadata": {},
   "outputs": [
    {
     "name": "stdout",
     "output_type": "stream",
     "text": [
      "(2400, 4510)\n",
      "(2400, 1)\n",
      "torch.float32\n",
      "torch.float32\n",
      "torch.float32\n",
      "torch.float32\n",
      "torch.Size([1920, 4510])\n",
      "torch.Size([480, 4510])\n",
      "torch.Size([1920, 1])\n",
      "torch.Size([480, 1])\n"
     ]
    }
   ],
   "source": [
    "from sklearn.feature_extraction.text import TfidfVectorizer\n",
    "vect = TfidfVectorizer()\n",
    "X = vect.fit_transform(x_input_text)\n",
    "X_valid = vect.transform(XTest)\n",
    "\n",
    "from sklearn.model_selection import train_test_split\n",
    "from torch.autograd import Variable\n",
    "X1 = X.toarray()\n",
    "print(X1.shape)\n",
    "print(Y.shape)\n",
    "\n",
    "X_train, X_test, y_train, y_test = train_test_split(X1, Y, test_size=0.2, random_state=42)\n",
    "X_train_kf = Variable(torch.from_numpy(X_train)).float()\n",
    "y_train_kf = Variable(torch.from_numpy(y_train)).float()\n",
    "X_test_var  = Variable(torch.from_numpy(X_test)).float()\n",
    "y_test_var  = Variable(torch.from_numpy(y_test)).float()\n",
    "print(X_train_kf.dtype)\n",
    "print(X_test_var.dtype)\n",
    "print(y_train_kf.dtype)\n",
    "print(y_test_var.dtype)\n",
    "\n",
    "print(X_train_kf.shape)\n",
    "print(X_test_var.shape)\n",
    "print(y_train_kf.shape)\n",
    "print(y_test_var.shape)"
   ]
  },
  {
   "cell_type": "code",
   "execution_count": 10,
   "metadata": {},
   "outputs": [],
   "source": [
    "import torch.nn.functional as F\n",
    "from sklearn.model_selection import KFold\n",
    "\n",
    "class LogisticRegression(nn.Module):\n",
    "    def __init__(self, input_size):\n",
    "        super().__init__()\n",
    "        self.linear = nn.Linear(input_size, 1)\n",
    "    \n",
    "    def forward(self, x):\n",
    "        return F.sigmoid(self.linear(x))\n",
    "    \n",
    "loss_func=[]\n",
    "accuracy_list = []\n",
    "folds = 10\n",
    "learning_rate = 0.001\n",
    "num_epochs = 2000\n",
    "\n",
    "model = LogisticRegression(X_train.shape[1])\n",
    "criterion = torch.nn.BCELoss()\n",
    "optimizer = torch.optim.SGD(model.parameters(), lr=learning_rate)\n",
    "\n",
    "kf = KFold(n_splits=folds, shuffle=True)\n"
   ]
  },
  {
   "cell_type": "code",
   "execution_count": 11,
   "metadata": {},
   "outputs": [
    {
     "name": "stdout",
     "output_type": "stream",
     "text": [
      "tensor(0.5152, grad_fn=<DivBackward0>)\n",
      "tensor(0.3813, grad_fn=<DivBackward0>)\n",
      "tensor(0.3056, grad_fn=<DivBackward0>)\n",
      "tensor(0.2528, grad_fn=<DivBackward0>)\n",
      "tensor(0.2126, grad_fn=<DivBackward0>)\n",
      "tensor(0.1833, grad_fn=<DivBackward0>)\n",
      "tensor(0.1606, grad_fn=<DivBackward0>)\n",
      "tensor(0.1418, grad_fn=<DivBackward0>)\n",
      "tensor(0.1271, grad_fn=<DivBackward0>)\n",
      "tensor(0.1149, grad_fn=<DivBackward0>)\n",
      "[0.78125, 0.9114583134651184, 0.9635416865348816, 0.9895833134651184, 0.9739583134651184, 0.9947916865348816, 0.9895833134651184, 0.984375, 1.0, 0.9947916865348816]\n",
      "Average Accuracy =  0.9583333313465119\n"
     ]
    }
   ],
   "source": [
    "for fold, (train_index_val, test_index_val) in enumerate(kf.split(X_train_kf)):\n",
    "    X_train, X_test = X_train_kf[train_index_val], X_train_kf[test_index_val]\n",
    "    y_train, y_test = y_train_kf[train_index_val], y_train_kf[test_index_val]\n",
    "    \n",
    "    for iteration in range(num_epochs):\n",
    "        output = model(X_train)\n",
    "        label = y_train.view(-1, 1) \n",
    "\n",
    "        loss = criterion(output, label)\n",
    "        loss_func.append(loss)\n",
    "        loss.backward()\n",
    "        optimizer.step()\n",
    "\n",
    "    with torch.no_grad():\n",
    "        output = model(X_test)\n",
    "        ypred = (output >= 0.5).float()\n",
    "        accuracy = (ypred == y_test.view(-1, 1)).float().mean().item()\n",
    "        accuracy_list.append(accuracy)\n",
    "    print(sum(loss_func)/len(loss_func))\n",
    "print(accuracy_list)\n",
    "\n",
    "accuracy_avg = sum(accuracy_list) / folds\n",
    "\n",
    "print(f\"Average Accuracy = \", accuracy_avg)\n"
   ]
  },
  {
   "cell_type": "code",
   "execution_count": 13,
   "metadata": {},
   "outputs": [
    {
     "data": {
      "image/png": "[encoded data removed]",
      "text/plain": [
       "<Figure size 640x480 with 1 Axes>"
      ]
     },
     "metadata": {},
     "output_type": "display_data"
    }
   ],
   "source": [
    "import matplotlib.pyplot as plt\n",
    "tensor = torch.Tensor(loss_func).detach().numpy()\n",
    "plt.plot(np.arange(num_epochs * folds), tensor)\n",
    "plt.show()"
   ]
  }
 ],
 "metadata": {
  "kernelspec": {
   "display_name": "Python 3",
   "language": "python",
   "name": "python3"
  },
  "language_info": {
   "codemirror_mode": {
    "name": "ipython",
    "version": 3
   },
   "file_extension": ".py",
   "mimetype": "text/x-python",
   "name": "python",
   "nbconvert_exporter": "python",
   "pygments_lexer": "ipython3",
   "version": "3.11.1"
  },
  "orig_nbformat": 4
 },
 "nbformat": 4,
 "nbformat_minor": 2
}
